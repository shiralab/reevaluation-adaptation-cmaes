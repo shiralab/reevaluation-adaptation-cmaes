{
 "cells": [
  {
   "cell_type": "markdown",
   "metadata": {},
   "source": [
    "# Sample Code of RA-CMA-ES"
   ]
  },
  {
   "cell_type": "code",
   "execution_count": 1,
   "metadata": {},
   "outputs": [],
   "source": [
    "import numpy as np\n",
    "import pandas as pd\n",
    "from matplotlib import pyplot as plt\n",
    "\n",
    "import cma.objective_function.continuous as f_cont\n",
    "import cma.objective_function.noise_wrapper as f_noise\n",
    "\n",
    "import cma.optimizer.cmaes as cma\n",
    "import cma.optimizer.lra_cmaes as lra\n",
    "import cma.optimizer.ra_cmaes as racma\n",
    "\n",
    "import cma.util.sampler as sampler\n",
    "import cma.util.weight as weight\n",
    "import cma.util.log as log"
   ]
  },
  {
   "cell_type": "markdown",
   "metadata": {},
   "source": [
    "### setting of objective functions\n",
    "- `d`: number of dimensions\n",
    "- `target_eval`: target evaluation value before adding noise (for termination condition)\n",
    "- `max_eval`: maximum number of evaluations (for termination condition)"
   ]
  },
  {
   "cell_type": "code",
   "execution_count": 2,
   "metadata": {},
   "outputs": [],
   "source": [
    "## number of dimensions\n",
    "d = 10\n",
    "\n",
    "## maximum number of evaluations (we set 1e8 in the manuscript)\n",
    "max_eval=1e6\n",
    "\n",
    "## objective functions\n",
    "##  - d:            number of dimensions\n",
    "##  - target_eval:  target objective function value (for termination condition)\n",
    "##  - max_eval:     maximum number of evaluation (for termination condition)\n",
    "\n",
    "## -------------------\n",
    "obj_func = f_cont.Sphere(d, target_eval=1e-3, max_eval=max_eval)\n",
    "# obj_func = f_cont.Ellipsoid(d, target_eval=1e-3, max_eval=max_eval)\n",
    "# obj_func = f_cont.Rosenbrock(d, target_eval=1e-3, max_eval=max_eval)\n",
    "# obj_func = f_cont.Rastrigin(d, target_eval=1e-3, max_eval=max_eval)\n",
    "# obj_func = f_cont.Schaffer(d, target_eval=1e-3, max_eval=max_eval)\n",
    "# obj_func = f_cont.Bohachevsky(d, target_eval=1e-3, max_eval=max_eval)\n",
    "# obj_func = f_cont.Ackley(d, target_eval=1e-3, max_eval=max_eval)\n",
    "# obj_func = f_cont.Griewank(d, target_eval=1e-3, max_eval=max_eval)\n",
    "## -------------------"
   ]
  },
  {
   "cell_type": "markdown",
   "metadata": {},
   "source": [
    "### Setting of noise function\n",
    "- `sigma`: parameter for noise function (lager is more difficult)\n",
    "\n",
    "- list of noise functions\n",
    "    - `AdditiveGaussianNoise`\n",
    "        - $f(x) + N(0, \\sigma^2)$\n",
    "        - We used $\\sigma = 10^0, 10^1, 10^2, 10^3$ in the manuscript\n",
    "    - `MultiplicativeGaussianNoise`\n",
    "        - $f(x) * (N(0, 1) + \\sigma)$\n",
    "        - We used $\\sigma = 0.5, 1.0, 1.5, 2.0$ in the manuscript\n",
    "    - `MultiplicativeUniformNoise`\n",
    "        - $f(x) * (U(-1, 1) + \\sigma)$\n",
    "        - We used $\\sigma = 0.5, 1.0, 2.0, 4.0$ in the manuscript"
   ]
  },
  {
   "cell_type": "code",
   "execution_count": 3,
   "metadata": {},
   "outputs": [],
   "source": [
    "## noise functions\n",
    "##   - sigma:   parameter for noise function\n",
    "## GaussianNoise:                  f(x) + (N(0, 1) * sigma)\n",
    "## GaussianMultiplicativeNoise:    f(x) * (1 + N(0, 1) * sigma)\n",
    "## UniformMultiplicativeNoise:     f(x) * (1 + U(-1, 1) * sigma)\n",
    "\n",
    "## -------------------\n",
    "# noise_func = f_noise.AdditiveGaussianNoise(sigma = 1e0)\n",
    "noise_func = f_noise.MultiplicativeGaussianNoise(sigma = 1.0)\n",
    "# noise_func = f_noise.MultiplicativeUniformNoise(sigma = 4.0)\n",
    "## -------------------"
   ]
  },
  {
   "cell_type": "code",
   "execution_count": 4,
   "metadata": {},
   "outputs": [],
   "source": [
    "## Objective function with noise\n",
    "f = f_noise.NoiseWrapper(obj_func, noise_func, target_values_min=1e-3, target_values_max=1e6)\n",
    "\n",
    "## Initial distribution parameters\n",
    "init_m, init_sigma = f_cont.initial_setting_for_gaussian(f, random=False)\n",
    "\n",
    "## Evaluation value at initial mean vector (for plot)\n",
    "## This is not counted in the number of evaluations\n",
    "init_mean_eval = f.evaluation(init_m[None,:])[0]\n",
    "f.set_target_values(target_max=init_mean_eval)\n",
    "\n",
    "## Sample size\n",
    "lam = cma.CMAParam.pop_size(d)\n",
    "\n",
    "## weight function\n",
    "w_func = weight.CMAWeight(lam, min_problem=f.minimization_problem)"
   ]
  },
  {
   "cell_type": "markdown",
   "metadata": {},
   "source": [
    "### List of Optimizer\n",
    "- `CMAES`: Naive CMA-ES\n",
    "- `LRACMAES`: CMA-ES with learning rate adaptation\n",
    "- `RACMAES`: RA-CMA-ES (proposed method)"
   ]
  },
  {
   "cell_type": "code",
   "execution_count": 5,
   "metadata": {},
   "outputs": [],
   "source": [
    "## optimizers\n",
    "\n",
    "## -------------------\n",
    "# opt = cma.CMAES(d, w_func, m=init_m, sigma=init_sigma)\n",
    "# opt = lra.LRACMAES(d, w_func, m=init_m, sigma=init_sigma)\n",
    "opt = racma.RACMAES(d, w_func, m=init_m, sigma=init_sigma)\n",
    "## -------------------\n"
   ]
  },
  {
   "cell_type": "code",
   "execution_count": 6,
   "metadata": {},
   "outputs": [],
   "source": [
    "## logger (please modify the dir and file names)\n",
    "log_interval = 100\n",
    "data_logger = log.DataLogger(\"test.csv\", \"test_result/\")\n",
    "\n",
    "## run\n",
    "opt.run(sampler.DefaultSampler(f, lam), logger=data_logger, verbose=False, log_interval=log_interval)\n",
    "data_logger.f.close()"
   ]
  },
  {
   "cell_type": "code",
   "execution_count": 7,
   "metadata": {},
   "outputs": [],
   "source": [
    "## safed log file\n",
    "df = pd.read_csv(\"test_result/test.csv\")"
   ]
  },
  {
   "cell_type": "code",
   "execution_count": 8,
   "metadata": {},
   "outputs": [
    {
     "data": {
      "text/plain": [
       "Text(0.5, 1.0, 'Num. of Reached Target Values')"
      ]
     },
     "execution_count": 8,
     "metadata": {},
     "output_type": "execute_result"
    },
    {
     "data": {
      "image/png": "[encoded data removed]",
      "text/plain": [
       "<Figure size 640x480 with 1 Axes>"
      ]
     },
     "metadata": {},
     "output_type": "display_data"
    }
   ],
   "source": [
    "## plot the number of reached target values\n",
    "\n",
    "label = opt.__class__.__name__\n",
    "plt.plot(df[\"EvalCount\"], df[\"reached_target_num\"], color=\"red\", label=label)\n",
    "plt.xscale(\"log\")\n",
    "plt.grid()\n",
    "plt.legend()\n",
    "\n",
    "plt.ylim(-10, 510)\n",
    "plt.xlim(1e2, 1e8)\n",
    "plt.title(\"Num. of Reached Target Values\")"
   ]
  },
  {
   "cell_type": "code",
   "execution_count": null,
   "metadata": {},
   "outputs": [],
   "source": []
  },
  {
   "cell_type": "code",
   "execution_count": null,
   "metadata": {},
   "outputs": [],
   "source": []
  }
 ],
 "metadata": {
  "kernelspec": {
   "display_name": "Python 3",
   "language": "python",
   "name": "python3"
  },
  "language_info": {
   "codemirror_mode": {
    "name": "ipython",
    "version": 3
   },
   "file_extension": ".py",
   "mimetype": "text/x-python",
   "name": "python",
   "nbconvert_exporter": "python",
   "pygments_lexer": "ipython3",
   "version": "3.9.6"
  },
  "orig_nbformat": 4
 },
 "nbformat": 4,
 "nbformat_minor": 2
}
